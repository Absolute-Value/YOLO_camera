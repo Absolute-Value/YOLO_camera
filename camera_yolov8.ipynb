{
 "cells": [
  {
   "cell_type": "code",
   "execution_count": 1,
   "metadata": {},
   "outputs": [],
   "source": [
    "import cv2\n",
    "import time\n",
    "import matplotlib.pyplot as plt\n",
    "from IPython.display import clear_output\n",
    "from ultralytics import YOLO"
   ]
  },
  {
   "cell_type": "code",
   "execution_count": 2,
   "metadata": {},
   "outputs": [],
   "source": [
    "model = YOLO('yolov8n.pt')"
   ]
  },
  {
   "cell_type": "code",
   "execution_count": 7,
   "metadata": {},
   "outputs": [
    {
     "name": "stderr",
     "output_type": "stream",
     "text": [
      "\n",
      "0: 480x640 4 chairs, 4 tvs, 2 laptops, 1 mouse, 3 keyboards, 5.9ms\n",
      "Speed: 12.8ms preprocess, 5.9ms inference, 1.0ms postprocess per image at shape (1, 3, 640, 640)\n"
     ]
    },
    {
     "name": "stdout",
     "output_type": "stream",
     "text": [
      "0.5355720520019531\n"
     ]
    }
   ],
   "source": [
    "while True:\n",
    "    start_time = time.time()\n",
    "    \n",
    "    # カメラをキャプチャする\n",
    "    cap = cv2.VideoCapture(0)\n",
    "    \n",
    "    # キャプチャが成功したかどうかを確認する\n",
    "    if not cap.isOpened():\n",
    "        print(\"カメラが見つかりません\")\n",
    "    \n",
    "    # ビデオストリームを取得し、ウィンドウに表示する\n",
    "    ret, frame = cap.read()\n",
    "\n",
    "    if not ret:\n",
    "        print(\"ビデオストリームが停止しました\")\n",
    "\n",
    "    img = cv2.cvtColor(frame, cv2.COLOR_BGR2RGB)\n",
    "    results = model([img])\n",
    "    for result in results:\n",
    "        boxes = result.boxes  # Boxes object for bbox outputs\n",
    "        masks = result.masks  # Masks object for segmenation masks outputs\n",
    "        probs = result.probs  # Class probabilities for classification outputs\n",
    "    \n",
    "    # results[0].plot()\n",
    "    \n",
    "    cap.release()\n",
    "\n",
    "    elasp_time = time.time() - start_time\n",
    "    print(elasp_time)\n",
    "    break\n",
    "    time.sleep(max(0,2-elasp_time))\n",
    "    clear_output(True)"
   ]
  },
  {
   "cell_type": "code",
   "execution_count": 25,
   "metadata": {},
   "outputs": [],
   "source": [
    "plt.imshow(results[0].orig_img)\n",
    "plt.show()"
   ]
  },
  {
   "cell_type": "code",
   "execution_count": null,
   "metadata": {},
   "outputs": [],
   "source": []
  }
 ],
 "metadata": {
  "kernelspec": {
   "display_name": "pytorch",
   "language": "python",
   "name": "python3"
  },
  "language_info": {
   "codemirror_mode": {
    "name": "ipython",
    "version": 3
   },
   "file_extension": ".py",
   "mimetype": "text/x-python",
   "name": "python",
   "nbconvert_exporter": "python",
   "pygments_lexer": "ipython3",
   "version": "3.7.15"
  },
  "orig_nbformat": 4
 },
 "nbformat": 4,
 "nbformat_minor": 2
}
